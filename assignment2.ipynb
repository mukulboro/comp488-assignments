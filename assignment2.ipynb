{
 "cells": [
  {
   "cell_type": "markdown",
   "metadata": {},
   "source": [
    "# Practical Assignment 2\n",
    "#### *Submitted by Mukul Aryal (CS IV/I)*\n",
    "##### MNIST Digit Classification Using TensorFlow 2.0"
   ]
  },
  {
   "cell_type": "code",
   "execution_count": 1,
   "metadata": {},
   "outputs": [
    {
     "name": "stderr",
     "output_type": "stream",
     "text": [
      "2025-04-03 19:46:41.769453: I tensorflow/core/util/port.cc:153] oneDNN custom operations are on. You may see slightly different numerical results due to floating-point round-off errors from different computation orders. To turn them off, set the environment variable `TF_ENABLE_ONEDNN_OPTS=0`.\n",
      "2025-04-03 19:46:41.801222: I tensorflow/core/platform/cpu_feature_guard.cc:210] This TensorFlow binary is optimized to use available CPU instructions in performance-critical operations.\n",
      "To enable the following instructions: AVX2 AVX512F AVX512_VNNI FMA, in other operations, rebuild TensorFlow with the appropriate compiler flags.\n",
      "2025-04-03 19:46:42.865689: I tensorflow/core/util/port.cc:153] oneDNN custom operations are on. You may see slightly different numerical results due to floating-point round-off errors from different computation orders. To turn them off, set the environment variable `TF_ENABLE_ONEDNN_OPTS=0`.\n"
     ]
    }
   ],
   "source": [
    "import warnings\n",
    "warnings.filterwarnings('ignore')\n",
    "import tensorflow as tf\n",
    "from keras.models import Sequential\n",
    "from keras.layers import Dense, Flatten\n",
    "import matplotlib.pyplot as plt\n",
    "import tensorflow_datasets as tfds"
   ]
  },
  {
   "cell_type": "code",
   "execution_count": 2,
   "metadata": {},
   "outputs": [],
   "source": [
    "# Load dataset\n",
    "(ds_train, ds_test), ds_info = tfds.load(\n",
    "    'mnist',\n",
    "    split=['train', 'test'],\n",
    "    shuffle_files=True,\n",
    "    as_supervised=True,\n",
    "    with_info=True,\n",
    ")\n",
    "\n",
    "# Normalize Dataset\n",
    "\n",
    "def normalize_image(image, label):\n",
    "    return tf.cast(image, tf.float32)/255., label\n",
    "\n",
    "ds_train = ds_train.map(\n",
    "    normalize_image, num_parallel_calls=tf.data.AUTOTUNE)\n",
    "ds_test = ds_test.map(\n",
    "    normalize_image, num_parallel_calls=tf.data.AUTOTUNE)\n",
    "\n",
    "# Shuffle, cache and define batch sie\n",
    "ds_train = ds_train.cache()\n",
    "ds_train = ds_train.shuffle(ds_info.splits['train'].num_examples)\n",
    "ds_train = ds_train.batch(128)\n",
    "ds_train = ds_train.prefetch(tf.data.AUTOTUNE)\n",
    "\n",
    "ds_test = ds_test.batch(128)\n",
    "ds_test = ds_test.cache()\n",
    "ds_test = ds_test.prefetch(tf.data.AUTOTUNE)\n",
    "\n"
   ]
  },
  {
   "cell_type": "code",
   "execution_count": 3,
   "metadata": {},
   "outputs": [],
   "source": [
    "# Creating sequential model\n",
    "model = Sequential([\n",
    "  Flatten(input_shape=(28, 28)),\n",
    "  Dense(256, activation=\"relu\"),\n",
    "  Dense(128, activation='relu'),\n",
    "  Dense(10)\n",
    "])\n",
    "model.compile(\n",
    "    optimizer=tf.keras.optimizers.Adam(0.001),\n",
    "    loss=tf.keras.losses.SparseCategoricalCrossentropy(from_logits=True),\n",
    "    metrics=[tf.keras.metrics.SparseCategoricalAccuracy()],\n",
    ")"
   ]
  },
  {
   "cell_type": "code",
   "execution_count": 4,
   "metadata": {},
   "outputs": [
    {
     "name": "stdout",
     "output_type": "stream",
     "text": [
      "Epoch 1/32\n"
     ]
    },
    {
     "name": "stderr",
     "output_type": "stream",
     "text": [
      "2025-04-03 19:46:44.301628: I tensorflow/core/kernels/data/tf_record_dataset_op.cc:387] The default buffer size is 262144, which is overridden by the user specified `buffer_size` of 8388608\n"
     ]
    },
    {
     "name": "stdout",
     "output_type": "stream",
     "text": [
      "\u001b[1m469/469\u001b[0m \u001b[32m━━━━━━━━━━━━━━━━━━━━\u001b[0m\u001b[37m\u001b[0m \u001b[1m3s\u001b[0m 3ms/step - loss: 0.5029 - sparse_categorical_accuracy: 0.8523 - val_loss: 0.1321 - val_sparse_categorical_accuracy: 0.9613\n",
      "Epoch 2/32\n",
      "\u001b[1m469/469\u001b[0m \u001b[32m━━━━━━━━━━━━━━━━━━━━\u001b[0m\u001b[37m\u001b[0m \u001b[1m1s\u001b[0m 3ms/step - loss: 0.1078 - sparse_categorical_accuracy: 0.9674 - val_loss: 0.0915 - val_sparse_categorical_accuracy: 0.9722\n",
      "Epoch 3/32\n",
      "\u001b[1m469/469\u001b[0m \u001b[32m━━━━━━━━━━━━━━━━━━━━\u001b[0m\u001b[37m\u001b[0m \u001b[1m2s\u001b[0m 3ms/step - loss: 0.0681 - sparse_categorical_accuracy: 0.9795 - val_loss: 0.0962 - val_sparse_categorical_accuracy: 0.9715\n",
      "Epoch 4/32\n",
      "\u001b[1m469/469\u001b[0m \u001b[32m━━━━━━━━━━━━━━━━━━━━\u001b[0m\u001b[37m\u001b[0m \u001b[1m1s\u001b[0m 3ms/step - loss: 0.0467 - sparse_categorical_accuracy: 0.9858 - val_loss: 0.0769 - val_sparse_categorical_accuracy: 0.9763\n",
      "Epoch 5/32\n",
      "\u001b[1m469/469\u001b[0m \u001b[32m━━━━━━━━━━━━━━━━━━━━\u001b[0m\u001b[37m\u001b[0m \u001b[1m1s\u001b[0m 3ms/step - loss: 0.0333 - sparse_categorical_accuracy: 0.9896 - val_loss: 0.0741 - val_sparse_categorical_accuracy: 0.9792\n",
      "Epoch 6/32\n",
      "\u001b[1m469/469\u001b[0m \u001b[32m━━━━━━━━━━━━━━━━━━━━\u001b[0m\u001b[37m\u001b[0m \u001b[1m1s\u001b[0m 3ms/step - loss: 0.0243 - sparse_categorical_accuracy: 0.9925 - val_loss: 0.0844 - val_sparse_categorical_accuracy: 0.9746\n",
      "Epoch 7/32\n",
      "\u001b[1m469/469\u001b[0m \u001b[32m━━━━━━━━━━━━━━━━━━━━\u001b[0m\u001b[37m\u001b[0m \u001b[1m1s\u001b[0m 3ms/step - loss: 0.0205 - sparse_categorical_accuracy: 0.9931 - val_loss: 0.0730 - val_sparse_categorical_accuracy: 0.9783\n",
      "Epoch 8/32\n",
      "\u001b[1m469/469\u001b[0m \u001b[32m━━━━━━━━━━━━━━━━━━━━\u001b[0m\u001b[37m\u001b[0m \u001b[1m1s\u001b[0m 3ms/step - loss: 0.0157 - sparse_categorical_accuracy: 0.9947 - val_loss: 0.0782 - val_sparse_categorical_accuracy: 0.9801\n",
      "Epoch 9/32\n",
      "\u001b[1m469/469\u001b[0m \u001b[32m━━━━━━━━━━━━━━━━━━━━\u001b[0m\u001b[37m\u001b[0m \u001b[1m1s\u001b[0m 3ms/step - loss: 0.0117 - sparse_categorical_accuracy: 0.9965 - val_loss: 0.0834 - val_sparse_categorical_accuracy: 0.9781\n",
      "Epoch 10/32\n",
      "\u001b[1m469/469\u001b[0m \u001b[32m━━━━━━━━━━━━━━━━━━━━\u001b[0m\u001b[37m\u001b[0m \u001b[1m1s\u001b[0m 3ms/step - loss: 0.0143 - sparse_categorical_accuracy: 0.9952 - val_loss: 0.0867 - val_sparse_categorical_accuracy: 0.9793\n",
      "Epoch 11/32\n",
      "\u001b[1m469/469\u001b[0m \u001b[32m━━━━━━━━━━━━━━━━━━━━\u001b[0m\u001b[37m\u001b[0m \u001b[1m1s\u001b[0m 3ms/step - loss: 0.0126 - sparse_categorical_accuracy: 0.9957 - val_loss: 0.0889 - val_sparse_categorical_accuracy: 0.9774\n",
      "Epoch 12/32\n",
      "\u001b[1m469/469\u001b[0m \u001b[32m━━━━━━━━━━━━━━━━━━━━\u001b[0m\u001b[37m\u001b[0m \u001b[1m1s\u001b[0m 3ms/step - loss: 0.0096 - sparse_categorical_accuracy: 0.9967 - val_loss: 0.0931 - val_sparse_categorical_accuracy: 0.9772\n",
      "Epoch 13/32\n",
      "\u001b[1m469/469\u001b[0m \u001b[32m━━━━━━━━━━━━━━━━━━━━\u001b[0m\u001b[37m\u001b[0m \u001b[1m1s\u001b[0m 3ms/step - loss: 0.0071 - sparse_categorical_accuracy: 0.9978 - val_loss: 0.0957 - val_sparse_categorical_accuracy: 0.9786\n",
      "Epoch 14/32\n",
      "\u001b[1m469/469\u001b[0m \u001b[32m━━━━━━━━━━━━━━━━━━━━\u001b[0m\u001b[37m\u001b[0m \u001b[1m1s\u001b[0m 3ms/step - loss: 0.0115 - sparse_categorical_accuracy: 0.9966 - val_loss: 0.0968 - val_sparse_categorical_accuracy: 0.9790\n",
      "Epoch 15/32\n",
      "\u001b[1m469/469\u001b[0m \u001b[32m━━━━━━━━━━━━━━━━━━━━\u001b[0m\u001b[37m\u001b[0m \u001b[1m1s\u001b[0m 3ms/step - loss: 0.0082 - sparse_categorical_accuracy: 0.9973 - val_loss: 0.0884 - val_sparse_categorical_accuracy: 0.9805\n",
      "Epoch 16/32\n",
      "\u001b[1m469/469\u001b[0m \u001b[32m━━━━━━━━━━━━━━━━━━━━\u001b[0m\u001b[37m\u001b[0m \u001b[1m1s\u001b[0m 3ms/step - loss: 0.0062 - sparse_categorical_accuracy: 0.9982 - val_loss: 0.0915 - val_sparse_categorical_accuracy: 0.9812\n",
      "Epoch 17/32\n",
      "\u001b[1m469/469\u001b[0m \u001b[32m━━━━━━━━━━━━━━━━━━━━\u001b[0m\u001b[37m\u001b[0m \u001b[1m1s\u001b[0m 3ms/step - loss: 0.0086 - sparse_categorical_accuracy: 0.9973 - val_loss: 0.0990 - val_sparse_categorical_accuracy: 0.9797\n",
      "Epoch 18/32\n",
      "\u001b[1m469/469\u001b[0m \u001b[32m━━━━━━━━━━━━━━━━━━━━\u001b[0m\u001b[37m\u001b[0m \u001b[1m1s\u001b[0m 3ms/step - loss: 0.0073 - sparse_categorical_accuracy: 0.9973 - val_loss: 0.1190 - val_sparse_categorical_accuracy: 0.9763\n",
      "Epoch 19/32\n",
      "\u001b[1m469/469\u001b[0m \u001b[32m━━━━━━━━━━━━━━━━━━━━\u001b[0m\u001b[37m\u001b[0m \u001b[1m1s\u001b[0m 3ms/step - loss: 0.0075 - sparse_categorical_accuracy: 0.9974 - val_loss: 0.1196 - val_sparse_categorical_accuracy: 0.9773\n",
      "Epoch 20/32\n",
      "\u001b[1m469/469\u001b[0m \u001b[32m━━━━━━━━━━━━━━━━━━━━\u001b[0m\u001b[37m\u001b[0m \u001b[1m1s\u001b[0m 3ms/step - loss: 0.0065 - sparse_categorical_accuracy: 0.9979 - val_loss: 0.1036 - val_sparse_categorical_accuracy: 0.9801\n",
      "Epoch 21/32\n",
      "\u001b[1m469/469\u001b[0m \u001b[32m━━━━━━━━━━━━━━━━━━━━\u001b[0m\u001b[37m\u001b[0m \u001b[1m1s\u001b[0m 3ms/step - loss: 0.0054 - sparse_categorical_accuracy: 0.9983 - val_loss: 0.1023 - val_sparse_categorical_accuracy: 0.9801\n",
      "Epoch 22/32\n",
      "\u001b[1m469/469\u001b[0m \u001b[32m━━━━━━━━━━━━━━━━━━━━\u001b[0m\u001b[37m\u001b[0m \u001b[1m1s\u001b[0m 3ms/step - loss: 0.0067 - sparse_categorical_accuracy: 0.9980 - val_loss: 0.1030 - val_sparse_categorical_accuracy: 0.9808\n",
      "Epoch 23/32\n",
      "\u001b[1m469/469\u001b[0m \u001b[32m━━━━━━━━━━━━━━━━━━━━\u001b[0m\u001b[37m\u001b[0m \u001b[1m1s\u001b[0m 3ms/step - loss: 0.0072 - sparse_categorical_accuracy: 0.9976 - val_loss: 0.0940 - val_sparse_categorical_accuracy: 0.9821\n",
      "Epoch 24/32\n",
      "\u001b[1m469/469\u001b[0m \u001b[32m━━━━━━━━━━━━━━━━━━━━\u001b[0m\u001b[37m\u001b[0m \u001b[1m1s\u001b[0m 3ms/step - loss: 0.0016 - sparse_categorical_accuracy: 0.9994 - val_loss: 0.1219 - val_sparse_categorical_accuracy: 0.9779\n",
      "Epoch 25/32\n",
      "\u001b[1m469/469\u001b[0m \u001b[32m━━━━━━━━━━━━━━━━━━━━\u001b[0m\u001b[37m\u001b[0m \u001b[1m1s\u001b[0m 3ms/step - loss: 0.0073 - sparse_categorical_accuracy: 0.9976 - val_loss: 0.1151 - val_sparse_categorical_accuracy: 0.9787\n",
      "Epoch 26/32\n",
      "\u001b[1m469/469\u001b[0m \u001b[32m━━━━━━━━━━━━━━━━━━━━\u001b[0m\u001b[37m\u001b[0m \u001b[1m1s\u001b[0m 3ms/step - loss: 0.0082 - sparse_categorical_accuracy: 0.9974 - val_loss: 0.1115 - val_sparse_categorical_accuracy: 0.9804\n",
      "Epoch 27/32\n",
      "\u001b[1m469/469\u001b[0m \u001b[32m━━━━━━━━━━━━━━━━━━━━\u001b[0m\u001b[37m\u001b[0m \u001b[1m1s\u001b[0m 3ms/step - loss: 0.0061 - sparse_categorical_accuracy: 0.9981 - val_loss: 0.1069 - val_sparse_categorical_accuracy: 0.9814\n",
      "Epoch 28/32\n",
      "\u001b[1m469/469\u001b[0m \u001b[32m━━━━━━━━━━━━━━━━━━━━\u001b[0m\u001b[37m\u001b[0m \u001b[1m1s\u001b[0m 3ms/step - loss: 0.0041 - sparse_categorical_accuracy: 0.9989 - val_loss: 0.1147 - val_sparse_categorical_accuracy: 0.9821\n",
      "Epoch 29/32\n",
      "\u001b[1m469/469\u001b[0m \u001b[32m━━━━━━━━━━━━━━━━━━━━\u001b[0m\u001b[37m\u001b[0m \u001b[1m1s\u001b[0m 3ms/step - loss: 0.0029 - sparse_categorical_accuracy: 0.9990 - val_loss: 0.1029 - val_sparse_categorical_accuracy: 0.9836\n",
      "Epoch 30/32\n",
      "\u001b[1m469/469\u001b[0m \u001b[32m━━━━━━━━━━━━━━━━━━━━\u001b[0m\u001b[37m\u001b[0m \u001b[1m1s\u001b[0m 3ms/step - loss: 0.0033 - sparse_categorical_accuracy: 0.9988 - val_loss: 0.1219 - val_sparse_categorical_accuracy: 0.9802\n",
      "Epoch 31/32\n",
      "\u001b[1m469/469\u001b[0m \u001b[32m━━━━━━━━━━━━━━━━━━━━\u001b[0m\u001b[37m\u001b[0m \u001b[1m1s\u001b[0m 3ms/step - loss: 0.0034 - sparse_categorical_accuracy: 0.9989 - val_loss: 0.1036 - val_sparse_categorical_accuracy: 0.9827\n",
      "Epoch 32/32\n",
      "\u001b[1m469/469\u001b[0m \u001b[32m━━━━━━━━━━━━━━━━━━━━\u001b[0m\u001b[37m\u001b[0m \u001b[1m1s\u001b[0m 3ms/step - loss: 0.0019 - sparse_categorical_accuracy: 0.9995 - val_loss: 0.1353 - val_sparse_categorical_accuracy: 0.9794\n"
     ]
    },
    {
     "data": {
      "text/plain": [
       "<keras.src.callbacks.history.History at 0x7a64dc5da270>"
      ]
     },
     "execution_count": 4,
     "metadata": {},
     "output_type": "execute_result"
    }
   ],
   "source": [
    "model.fit(\n",
    "    ds_train,\n",
    "    epochs=32,\n",
    "    validation_data=ds_test,\n",
    ")"
   ]
  },
  {
   "cell_type": "code",
   "execution_count": 5,
   "metadata": {},
   "outputs": [
    {
     "name": "stdout",
     "output_type": "stream",
     "text": [
      "\u001b[1m79/79\u001b[0m \u001b[32m━━━━━━━━━━━━━━━━━━━━\u001b[0m\u001b[37m\u001b[0m \u001b[1m0s\u001b[0m 1ms/step - loss: 0.1257 - sparse_categorical_accuracy: 0.9805\n",
      "Test Loss: 0.13525022566318512\n",
      "Test Accuracy: 0.9793999791145325\n"
     ]
    }
   ],
   "source": [
    "test_loss, test_accuracy = model.evaluate(ds_test)\n",
    "print(f\"Test Loss: {test_loss}\")\n",
    "print(f\"Test Accuracy: {test_accuracy}\")"
   ]
  }
 ],
 "metadata": {
  "kernelspec": {
   "display_name": ".venv",
   "language": "python",
   "name": "python3"
  },
  "language_info": {
   "codemirror_mode": {
    "name": "ipython",
    "version": 3
   },
   "file_extension": ".py",
   "mimetype": "text/x-python",
   "name": "python",
   "nbconvert_exporter": "python",
   "pygments_lexer": "ipython3",
   "version": "3.12.3"
  }
 },
 "nbformat": 4,
 "nbformat_minor": 2
}
