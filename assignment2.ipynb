{
 "cells": [
  {
   "cell_type": "markdown",
   "metadata": {},
   "source": [
    "# Practical Assignment 2\n",
    "#### *Submitted by Mukul Aryal (CS IV/I)*\n",
    "##### MNIST Digit Classification Using TensorFlow 2.0"
   ]
  },
  {
   "cell_type": "code",
   "execution_count": 11,
   "metadata": {},
   "outputs": [],
   "source": [
    "import warnings\n",
    "warnings.filterwarnings('ignore')\n",
    "import tensorflow as tf\n",
    "from keras.models import Sequential\n",
    "from keras.layers import Dense\n",
    "import matplotlib.pyplot as plt\n",
    "import tensorflow_datasets as tfds"
   ]
  },
  {
   "cell_type": "code",
   "execution_count": 15,
   "metadata": {},
   "outputs": [],
   "source": [
    "# Load dataset\n",
    "(ds_train, ds_test), ds_info = tfds.load(\n",
    "    'mnist',\n",
    "    split=['train', 'test'],\n",
    "    shuffle_files=True,\n",
    "    as_supervised=True,\n",
    "    with_info=True,\n",
    ")\n",
    "\n",
    "# Normalize Dataset\n",
    "\n",
    "def normalize_image(image, label):\n",
    "    return tf.cast(image, tf.float32)/255., label\n",
    "\n",
    "ds_train = ds_train.map(\n",
    "    normalize_image, num_parallel_calls=tf.data.AUTOTUNE)\n",
    "ds_test = ds_test.map(\n",
    "    normalize_image, num_parallel_calls=tf.data.AUTOTUNE)\n",
    "\n",
    "# Shuffle, cache and define batch sie\n",
    "ds_train = ds_train.cache()\n",
    "ds_train = ds_train.shuffle(ds_info.splits['train'].num_examples)\n",
    "ds_train = ds_train.batch(128)\n",
    "ds_train = ds_train.prefetch(tf.data.AUTOTUNE)\n",
    "\n",
    "ds_test = ds_test.batch(128)\n",
    "ds_test = ds_test.cache()\n",
    "ds_test = ds_test.prefetch(tf.data.AUTOTUNE)\n",
    "\n"
   ]
  },
  {
   "cell_type": "code",
   "execution_count": 21,
   "metadata": {},
   "outputs": [],
   "source": [
    "# Creating sequential model\n",
    "model = tf.keras.models.Sequential([\n",
    "  tf.keras.layers.Flatten(input_shape=(28, 28)),\n",
    "  tf.keras.layers.Dense(256, activation=\"relu\"),\n",
    "  tf.keras.layers.Dense(128, activation='relu'),\n",
    "  tf.keras.layers.Dense(10)\n",
    "])\n",
    "model.compile(\n",
    "    optimizer=tf.keras.optimizers.Adam(0.001),\n",
    "    loss=tf.keras.losses.SparseCategoricalCrossentropy(from_logits=True),\n",
    "    metrics=[tf.keras.metrics.SparseCategoricalAccuracy()],\n",
    ")"
   ]
  },
  {
   "cell_type": "code",
   "execution_count": 23,
   "metadata": {},
   "outputs": [
    {
     "name": "stdout",
     "output_type": "stream",
     "text": [
      "Epoch 1/32\n",
      "\u001b[1m469/469\u001b[0m \u001b[32m━━━━━━━━━━━━━━━━━━━━\u001b[0m\u001b[37m\u001b[0m \u001b[1m1s\u001b[0m 3ms/step - loss: 0.0083 - sparse_categorical_accuracy: 0.9973 - val_loss: 0.0684 - val_sparse_categorical_accuracy: 0.9824\n",
      "Epoch 2/32\n",
      "\u001b[1m469/469\u001b[0m \u001b[32m━━━━━━━━━━━━━━━━━━━━\u001b[0m\u001b[37m\u001b[0m \u001b[1m1s\u001b[0m 3ms/step - loss: 0.0071 - sparse_categorical_accuracy: 0.9976 - val_loss: 0.1065 - val_sparse_categorical_accuracy: 0.9739\n",
      "Epoch 3/32\n",
      "\u001b[1m469/469\u001b[0m \u001b[32m━━━━━━━━━━━━━━━━━━━━\u001b[0m\u001b[37m\u001b[0m \u001b[1m1s\u001b[0m 2ms/step - loss: 0.0091 - sparse_categorical_accuracy: 0.9967 - val_loss: 0.0946 - val_sparse_categorical_accuracy: 0.9774\n",
      "Epoch 4/32\n",
      "\u001b[1m469/469\u001b[0m \u001b[32m━━━━━━━━━━━━━━━━━━━━\u001b[0m\u001b[37m\u001b[0m \u001b[1m1s\u001b[0m 3ms/step - loss: 0.0086 - sparse_categorical_accuracy: 0.9971 - val_loss: 0.0996 - val_sparse_categorical_accuracy: 0.9762\n",
      "Epoch 5/32\n",
      "\u001b[1m469/469\u001b[0m \u001b[32m━━━━━━━━━━━━━━━━━━━━\u001b[0m\u001b[37m\u001b[0m \u001b[1m1s\u001b[0m 3ms/step - loss: 0.0069 - sparse_categorical_accuracy: 0.9979 - val_loss: 0.0983 - val_sparse_categorical_accuracy: 0.9782\n",
      "Epoch 6/32\n",
      "\u001b[1m469/469\u001b[0m \u001b[32m━━━━━━━━━━━━━━━━━━━━\u001b[0m\u001b[37m\u001b[0m \u001b[1m1s\u001b[0m 3ms/step - loss: 0.0050 - sparse_categorical_accuracy: 0.9984 - val_loss: 0.0975 - val_sparse_categorical_accuracy: 0.9811\n",
      "Epoch 7/32\n",
      "\u001b[1m469/469\u001b[0m \u001b[32m━━━━━━━━━━━━━━━━━━━━\u001b[0m\u001b[37m\u001b[0m \u001b[1m1s\u001b[0m 3ms/step - loss: 0.0041 - sparse_categorical_accuracy: 0.9987 - val_loss: 0.0979 - val_sparse_categorical_accuracy: 0.9784\n",
      "Epoch 8/32\n",
      "\u001b[1m469/469\u001b[0m \u001b[32m━━━━━━━━━━━━━━━━━━━━\u001b[0m\u001b[37m\u001b[0m \u001b[1m1s\u001b[0m 2ms/step - loss: 0.0057 - sparse_categorical_accuracy: 0.9983 - val_loss: 0.1175 - val_sparse_categorical_accuracy: 0.9773\n",
      "Epoch 9/32\n",
      "\u001b[1m469/469\u001b[0m \u001b[32m━━━━━━━━━━━━━━━━━━━━\u001b[0m\u001b[37m\u001b[0m \u001b[1m1s\u001b[0m 2ms/step - loss: 0.0123 - sparse_categorical_accuracy: 0.9957 - val_loss: 0.0869 - val_sparse_categorical_accuracy: 0.9820\n",
      "Epoch 10/32\n",
      "\u001b[1m469/469\u001b[0m \u001b[32m━━━━━━━━━━━━━━━━━━━━\u001b[0m\u001b[37m\u001b[0m \u001b[1m1s\u001b[0m 3ms/step - loss: 0.0018 - sparse_categorical_accuracy: 0.9995 - val_loss: 0.0951 - val_sparse_categorical_accuracy: 0.9816\n",
      "Epoch 11/32\n",
      "\u001b[1m469/469\u001b[0m \u001b[32m━━━━━━━━━━━━━━━━━━━━\u001b[0m\u001b[37m\u001b[0m \u001b[1m1s\u001b[0m 2ms/step - loss: 0.0017 - sparse_categorical_accuracy: 0.9996 - val_loss: 0.1054 - val_sparse_categorical_accuracy: 0.9813\n",
      "Epoch 12/32\n",
      "\u001b[1m469/469\u001b[0m \u001b[32m━━━━━━━━━━━━━━━━━━━━\u001b[0m\u001b[37m\u001b[0m \u001b[1m1s\u001b[0m 3ms/step - loss: 0.0099 - sparse_categorical_accuracy: 0.9966 - val_loss: 0.1109 - val_sparse_categorical_accuracy: 0.9793\n",
      "Epoch 13/32\n",
      "\u001b[1m469/469\u001b[0m \u001b[32m━━━━━━━━━━━━━━━━━━━━\u001b[0m\u001b[37m\u001b[0m \u001b[1m1s\u001b[0m 3ms/step - loss: 0.0046 - sparse_categorical_accuracy: 0.9986 - val_loss: 0.1188 - val_sparse_categorical_accuracy: 0.9776\n",
      "Epoch 14/32\n",
      "\u001b[1m469/469\u001b[0m \u001b[32m━━━━━━━━━━━━━━━━━━━━\u001b[0m\u001b[37m\u001b[0m \u001b[1m1s\u001b[0m 3ms/step - loss: 0.0078 - sparse_categorical_accuracy: 0.9975 - val_loss: 0.1036 - val_sparse_categorical_accuracy: 0.9793\n",
      "Epoch 15/32\n",
      "\u001b[1m469/469\u001b[0m \u001b[32m━━━━━━━━━━━━━━━━━━━━\u001b[0m\u001b[37m\u001b[0m \u001b[1m1s\u001b[0m 3ms/step - loss: 0.0040 - sparse_categorical_accuracy: 0.9987 - val_loss: 0.1061 - val_sparse_categorical_accuracy: 0.9815\n",
      "Epoch 16/32\n",
      "\u001b[1m469/469\u001b[0m \u001b[32m━━━━━━━━━━━━━━━━━━━━\u001b[0m\u001b[37m\u001b[0m \u001b[1m1s\u001b[0m 2ms/step - loss: 0.0053 - sparse_categorical_accuracy: 0.9985 - val_loss: 0.1053 - val_sparse_categorical_accuracy: 0.9808\n",
      "Epoch 17/32\n",
      "\u001b[1m469/469\u001b[0m \u001b[32m━━━━━━━━━━━━━━━━━━━━\u001b[0m\u001b[37m\u001b[0m \u001b[1m1s\u001b[0m 2ms/step - loss: 0.0028 - sparse_categorical_accuracy: 0.9990 - val_loss: 0.1161 - val_sparse_categorical_accuracy: 0.9794\n",
      "Epoch 18/32\n",
      "\u001b[1m469/469\u001b[0m \u001b[32m━━━━━━━━━━━━━━━━━━━━\u001b[0m\u001b[37m\u001b[0m \u001b[1m1s\u001b[0m 3ms/step - loss: 0.0033 - sparse_categorical_accuracy: 0.9991 - val_loss: 0.1249 - val_sparse_categorical_accuracy: 0.9775\n",
      "Epoch 19/32\n",
      "\u001b[1m469/469\u001b[0m \u001b[32m━━━━━━━━━━━━━━━━━━━━\u001b[0m\u001b[37m\u001b[0m \u001b[1m1s\u001b[0m 3ms/step - loss: 0.0088 - sparse_categorical_accuracy: 0.9971 - val_loss: 0.1000 - val_sparse_categorical_accuracy: 0.9817\n",
      "Epoch 20/32\n",
      "\u001b[1m469/469\u001b[0m \u001b[32m━━━━━━━━━━━━━━━━━━━━\u001b[0m\u001b[37m\u001b[0m \u001b[1m1s\u001b[0m 3ms/step - loss: 0.0017 - sparse_categorical_accuracy: 0.9995 - val_loss: 0.1021 - val_sparse_categorical_accuracy: 0.9827\n",
      "Epoch 21/32\n",
      "\u001b[1m469/469\u001b[0m \u001b[32m━━━━━━━━━━━━━━━━━━━━\u001b[0m\u001b[37m\u001b[0m \u001b[1m1s\u001b[0m 3ms/step - loss: 0.0048 - sparse_categorical_accuracy: 0.9987 - val_loss: 0.1206 - val_sparse_categorical_accuracy: 0.9806\n",
      "Epoch 22/32\n",
      "\u001b[1m469/469\u001b[0m \u001b[32m━━━━━━━━━━━━━━━━━━━━\u001b[0m\u001b[37m\u001b[0m \u001b[1m1s\u001b[0m 3ms/step - loss: 0.0082 - sparse_categorical_accuracy: 0.9978 - val_loss: 0.1505 - val_sparse_categorical_accuracy: 0.9759\n",
      "Epoch 23/32\n",
      "\u001b[1m469/469\u001b[0m \u001b[32m━━━━━━━━━━━━━━━━━━━━\u001b[0m\u001b[37m\u001b[0m \u001b[1m1s\u001b[0m 3ms/step - loss: 0.0066 - sparse_categorical_accuracy: 0.9977 - val_loss: 0.1115 - val_sparse_categorical_accuracy: 0.9801\n",
      "Epoch 24/32\n",
      "\u001b[1m469/469\u001b[0m \u001b[32m━━━━━━━━━━━━━━━━━━━━\u001b[0m\u001b[37m\u001b[0m \u001b[1m2s\u001b[0m 3ms/step - loss: 0.0012 - sparse_categorical_accuracy: 0.9996 - val_loss: 0.1069 - val_sparse_categorical_accuracy: 0.9830\n",
      "Epoch 25/32\n",
      "\u001b[1m469/469\u001b[0m \u001b[32m━━━━━━━━━━━━━━━━━━━━\u001b[0m\u001b[37m\u001b[0m \u001b[1m2s\u001b[0m 3ms/step - loss: 4.9687e-04 - sparse_categorical_accuracy: 0.9999 - val_loss: 0.1254 - val_sparse_categorical_accuracy: 0.9795\n",
      "Epoch 26/32\n",
      "\u001b[1m469/469\u001b[0m \u001b[32m━━━━━━━━━━━━━━━━━━━━\u001b[0m\u001b[37m\u001b[0m \u001b[1m2s\u001b[0m 3ms/step - loss: 0.0079 - sparse_categorical_accuracy: 0.9978 - val_loss: 0.1182 - val_sparse_categorical_accuracy: 0.9808\n",
      "Epoch 27/32\n",
      "\u001b[1m469/469\u001b[0m \u001b[32m━━━━━━━━━━━━━━━━━━━━\u001b[0m\u001b[37m\u001b[0m \u001b[1m2s\u001b[0m 3ms/step - loss: 0.0058 - sparse_categorical_accuracy: 0.9979 - val_loss: 0.1034 - val_sparse_categorical_accuracy: 0.9831\n",
      "Epoch 28/32\n",
      "\u001b[1m469/469\u001b[0m \u001b[32m━━━━━━━━━━━━━━━━━━━━\u001b[0m\u001b[37m\u001b[0m \u001b[1m2s\u001b[0m 3ms/step - loss: 0.0035 - sparse_categorical_accuracy: 0.9991 - val_loss: 0.1135 - val_sparse_categorical_accuracy: 0.9808\n",
      "Epoch 29/32\n",
      "\u001b[1m469/469\u001b[0m \u001b[32m━━━━━━━━━━━━━━━━━━━━\u001b[0m\u001b[37m\u001b[0m \u001b[1m2s\u001b[0m 3ms/step - loss: 0.0026 - sparse_categorical_accuracy: 0.9991 - val_loss: 0.1470 - val_sparse_categorical_accuracy: 0.9798\n",
      "Epoch 30/32\n",
      "\u001b[1m469/469\u001b[0m \u001b[32m━━━━━━━━━━━━━━━━━━━━\u001b[0m\u001b[37m\u001b[0m \u001b[1m2s\u001b[0m 3ms/step - loss: 0.0081 - sparse_categorical_accuracy: 0.9983 - val_loss: 0.1202 - val_sparse_categorical_accuracy: 0.9812\n",
      "Epoch 31/32\n",
      "\u001b[1m469/469\u001b[0m \u001b[32m━━━━━━━━━━━━━━━━━━━━\u001b[0m\u001b[37m\u001b[0m \u001b[1m2s\u001b[0m 3ms/step - loss: 0.0056 - sparse_categorical_accuracy: 0.9981 - val_loss: 0.1075 - val_sparse_categorical_accuracy: 0.9833\n",
      "Epoch 32/32\n",
      "\u001b[1m469/469\u001b[0m \u001b[32m━━━━━━━━━━━━━━━━━━━━\u001b[0m\u001b[37m\u001b[0m \u001b[1m1s\u001b[0m 3ms/step - loss: 0.0018 - sparse_categorical_accuracy: 0.9994 - val_loss: 0.1334 - val_sparse_categorical_accuracy: 0.9799\n"
     ]
    },
    {
     "data": {
      "text/plain": [
       "<keras.src.callbacks.history.History at 0x7451cdb1ae40>"
      ]
     },
     "execution_count": 23,
     "metadata": {},
     "output_type": "execute_result"
    }
   ],
   "source": [
    "model.fit(\n",
    "    ds_train,\n",
    "    epochs=32,\n",
    "    validation_data=ds_test,\n",
    ")"
   ]
  },
  {
   "cell_type": "code",
   "execution_count": 24,
   "metadata": {},
   "outputs": [
    {
     "name": "stdout",
     "output_type": "stream",
     "text": [
      "\u001b[1m79/79\u001b[0m \u001b[32m━━━━━━━━━━━━━━━━━━━━\u001b[0m\u001b[37m\u001b[0m \u001b[1m0s\u001b[0m 1ms/step - loss: 0.1226 - sparse_categorical_accuracy: 0.9805\n",
      "Test Loss: 0.1334257870912552\n",
      "Test Accuracy: 0.9799000024795532\n"
     ]
    }
   ],
   "source": [
    "test_loss, test_accuracy = model.evaluate(ds_test)\n",
    "print(f\"Test Loss: {test_loss}\")\n",
    "print(f\"Test Accuracy: {test_accuracy}\")"
   ]
  }
 ],
 "metadata": {
  "kernelspec": {
   "display_name": ".venv",
   "language": "python",
   "name": "python3"
  },
  "language_info": {
   "codemirror_mode": {
    "name": "ipython",
    "version": 3
   },
   "file_extension": ".py",
   "mimetype": "text/x-python",
   "name": "python",
   "nbconvert_exporter": "python",
   "pygments_lexer": "ipython3",
   "version": "3.12.3"
  }
 },
 "nbformat": 4,
 "nbformat_minor": 2
}
