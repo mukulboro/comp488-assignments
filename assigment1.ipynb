{
 "cells": [
  {
   "cell_type": "markdown",
   "metadata": {},
   "source": [
    "# Practical Assignment 1\n",
    "#### *Submitted by Mukul Aryal (CS IV/1)*\n",
    "##### Building a neural network from scratch"
   ]
  },
  {
   "cell_type": "code",
   "execution_count": 17,
   "metadata": {},
   "outputs": [],
   "source": [
    "import numpy as np\n",
    "from matplotlib import pyplot as plt\n",
    "# 'widget' has better Vscode support than 'inline'\n",
    "%matplotlib inline\n"
   ]
  },
  {
   "cell_type": "code",
   "execution_count": 10,
   "metadata": {},
   "outputs": [],
   "source": [
    "# XOR Dataset Creation\n",
    "X = np.array([ [0,0], [0,1], [1,0], [1, 1] ])\n",
    "y = np.array([ [0], [1], [1], [0] ]) # True labels"
   ]
  },
  {
   "cell_type": "code",
   "execution_count": 4,
   "metadata": {},
   "outputs": [],
   "source": [
    "# MLP node numbers\n",
    "num_input = 2\n",
    "num_hidden = 5\n",
    "num_output = 1"
   ]
  },
  {
   "cell_type": "code",
   "execution_count": 6,
   "metadata": {},
   "outputs": [],
   "source": [
    "# Initialize weights and biases randomly\n",
    "\"\"\"\n",
    "Weights from i/p to h (Wxh) has dim num_input x num_hidden\n",
    "Weights from h to o/p (Why) has dim num_hidden x num_output\n",
    "\"\"\"\n",
    "Wxh = np.random.randn(num_input, num_hidden)\n",
    "bh = np.random.randn(1, num_hidden)\n",
    "\n",
    "Why = np.random.randn(num_hidden, num_output)\n",
    "by = np.random.randn(1, num_output)"
   ]
  },
  {
   "cell_type": "code",
   "execution_count": 11,
   "metadata": {},
   "outputs": [],
   "source": [
    "# All relevant functions defined in this cell\n",
    "\n",
    "sigmoid = lambda x : 1/(1+np.exp(-x))\n",
    "sigmoid_derivative = lambda x : np.exp(-x)/((1+np.exp(-x))**2)\n",
    "\n",
    "cost_function = lambda y,y_hat : 0.5*sum((y-y_hat)**2)\n",
    "\n",
    "def forward_prop(X, Wxh, Why):\n",
    "    z1 = np.dot(X, Wxh) + bh\n",
    "    a1 = sigmoid(z1)\n",
    "    \n",
    "    z2 = np.dot(a1, Why) + by\n",
    "    y_hat = sigmoid(z2)\n",
    "    \n",
    "    return z1, a1, z2, y_hat\n",
    "\n",
    "def backward_prop(y_hat, z1, a1, z2):\n",
    "    delta2 = np.multiply(-(y-y_hat), sigmoid_derivative(z2))\n",
    "    dJ_dWhy = np.dot(a1.T, delta2)\n",
    "    delta1 = np.dot(delta2,Why.T)*sigmoid_derivative(z1)\n",
    "    dJ_dWxh = np.dot(X.T, delta1)\n",
    "    return dJ_dWxh, dJ_dWhy"
   ]
  },
  {
   "cell_type": "code",
   "execution_count": 13,
   "metadata": {},
   "outputs": [],
   "source": [
    "# Hyperparameters\n",
    "alpha = 0.01\n",
    "num_iterations = 5000"
   ]
  },
  {
   "cell_type": "code",
   "execution_count": 14,
   "metadata": {},
   "outputs": [],
   "source": [
    "# Training Loop\n",
    "\n",
    "cost = [] # Keep track of costs to plot later\n",
    "\n",
    "for i in range(num_iterations):\n",
    "    z1,a1,z2,y_hat = forward_prop(X,Wxh,Why)\n",
    "    dJ_dWxh, dJ_dWhy = backward_prop(y_hat, z1, a1, z2)\n",
    "    \n",
    "    # Update weights\n",
    "    Wxh = Wxh -alpha * dJ_dWxh\n",
    "    Why = Why -alpha * dJ_dWhy\n",
    "    \n",
    "    # Compute cost\n",
    "    c = cost_function(y, y_hat)\n",
    "    cost.append(c)"
   ]
  },
  {
   "cell_type": "code",
   "execution_count": 21,
   "metadata": {},
   "outputs": [
    {
     "data": {
      "text/plain": [
       "Text(0, 0.5, 'Cost')"
      ]
     },
     "execution_count": 21,
     "metadata": {},
     "output_type": "execute_result"
    },
    {
     "data": {
      "image/png": "[encoded data removed]",
      "text/plain": [
       "<Figure size 640x480 with 1 Axes>"
      ]
     },
     "metadata": {},
     "output_type": "display_data"
    }
   ],
   "source": [
    "# Loss Plot\n",
    "plt.title(\"Cost Function Plot\")\n",
    "plt.plot(range(num_iterations), cost, c=\"r\")\n",
    "plt.xlabel(\"No. of iterations\")\n",
    "plt.ylabel(\"Cost\")"
   ]
  }
 ],
 "metadata": {
  "kernelspec": {
   "display_name": ".venv",
   "language": "python",
   "name": "python3"
  },
  "language_info": {
   "codemirror_mode": {
    "name": "ipython",
    "version": 3
   },
   "file_extension": ".py",
   "mimetype": "text/x-python",
   "name": "python",
   "nbconvert_exporter": "python",
   "pygments_lexer": "ipython3",
   "version": "3.12.3"
  }
 },
 "nbformat": 4,
 "nbformat_minor": 2
}
