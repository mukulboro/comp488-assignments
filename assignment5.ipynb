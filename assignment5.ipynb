{
 "cells": [
  {
   "cell_type": "markdown",
   "id": "5dc041a0",
   "metadata": {},
   "source": [
    "# Practical Assignment 5\n",
    "#### *Submitted by Mukul Aryal (CS IV/I)*\n",
    "##### Predicting Bitcoin prices using LSTM model"
   ]
  },
  {
   "cell_type": "code",
   "execution_count": 1,
   "id": "18a550f5",
   "metadata": {},
   "outputs": [
    {
     "name": "stderr",
     "output_type": "stream",
     "text": [
      "2025-04-28 18:32:07.928401: I tensorflow/core/util/port.cc:153] oneDNN custom operations are on. You may see slightly different numerical results due to floating-point round-off errors from different computation orders. To turn them off, set the environment variable `TF_ENABLE_ONEDNN_OPTS=0`.\n",
      "2025-04-28 18:32:07.928912: I external/local_xla/xla/tsl/cuda/cudart_stub.cc:32] Could not find cuda drivers on your machine, GPU will not be used.\n",
      "2025-04-28 18:32:07.932052: I external/local_xla/xla/tsl/cuda/cudart_stub.cc:32] Could not find cuda drivers on your machine, GPU will not be used.\n",
      "2025-04-28 18:32:07.939396: E external/local_xla/xla/stream_executor/cuda/cuda_fft.cc:467] Unable to register cuFFT factory: Attempting to register factory for plugin cuFFT when one has already been registered\n",
      "WARNING: All log messages before absl::InitializeLog() is called are written to STDERR\n",
      "E0000 00:00:1745844427.952108   18323 cuda_dnn.cc:8579] Unable to register cuDNN factory: Attempting to register factory for plugin cuDNN when one has already been registered\n",
      "E0000 00:00:1745844427.955567   18323 cuda_blas.cc:1407] Unable to register cuBLAS factory: Attempting to register factory for plugin cuBLAS when one has already been registered\n",
      "W0000 00:00:1745844427.964448   18323 computation_placer.cc:177] computation placer already registered. Please check linkage and avoid linking the same target more than once.\n",
      "W0000 00:00:1745844427.964465   18323 computation_placer.cc:177] computation placer already registered. Please check linkage and avoid linking the same target more than once.\n",
      "W0000 00:00:1745844427.964466   18323 computation_placer.cc:177] computation placer already registered. Please check linkage and avoid linking the same target more than once.\n",
      "W0000 00:00:1745844427.964467   18323 computation_placer.cc:177] computation placer already registered. Please check linkage and avoid linking the same target more than once.\n",
      "2025-04-28 18:32:07.968387: I tensorflow/core/platform/cpu_feature_guard.cc:210] This TensorFlow binary is optimized to use available CPU instructions in performance-critical operations.\n",
      "To enable the following instructions: AVX2 AVX512F AVX512_VNNI FMA, in other operations, rebuild TensorFlow with the appropriate compiler flags.\n"
     ]
    },
    {
     "name": "stdout",
     "output_type": "stream",
     "text": [
      "WARNING:tensorflow:From /home/mukulboro/python_projects/comp488-assignments/.venv/lib/python3.10/site-packages/tensorflow/python/compat/v2_compat.py:98: disable_resource_variables (from tensorflow.python.ops.resource_variables_toggle) is deprecated and will be removed in a future version.\n",
      "Instructions for updating:\n",
      "non-resource variables are not supported in the long term\n"
     ]
    }
   ],
   "source": [
    "import numpy as np\n",
    "import pandas as pd\n",
    "from sklearn.preprocessing import StandardScaler\n",
    "import matplotlib.pyplot as plt\n",
    "import tensorflow.compat.v1 as tf\n",
    "import warnings\n",
    "import logging\n",
    "\n",
    "tf.disable_v2_behavior()\n",
    "logging.getLogger(\"tensorflow\").setLevel(logging.ERROR)\n",
    "warnings.filterwarnings('ignore')"
   ]
  },
  {
   "cell_type": "code",
   "execution_count": 2,
   "id": "69eabd86",
   "metadata": {},
   "outputs": [
    {
     "data": {
      "text/html": [
       "<div>\n",
       "<style scoped>\n",
       "    .dataframe tbody tr th:only-of-type {\n",
       "        vertical-align: middle;\n",
       "    }\n",
       "\n",
       "    .dataframe tbody tr th {\n",
       "        vertical-align: top;\n",
       "    }\n",
       "\n",
       "    .dataframe thead th {\n",
       "        text-align: right;\n",
       "    }\n",
       "</style>\n",
       "<table border=\"1\" class=\"dataframe\">\n",
       "  <thead>\n",
       "    <tr style=\"text-align: right;\">\n",
       "      <th></th>\n",
       "      <th>Date</th>\n",
       "      <th>Symbol</th>\n",
       "      <th>Open</th>\n",
       "      <th>High</th>\n",
       "      <th>Low</th>\n",
       "      <th>Close</th>\n",
       "      <th>Volume From</th>\n",
       "      <th>Volume To</th>\n",
       "    </tr>\n",
       "  </thead>\n",
       "  <tbody>\n",
       "    <tr>\n",
       "      <th>0</th>\n",
       "      <td>5/26/2018</td>\n",
       "      <td>BTCUSD</td>\n",
       "      <td>7459.11</td>\n",
       "      <td>7640.46</td>\n",
       "      <td>7380.00</td>\n",
       "      <td>7520.00</td>\n",
       "      <td>2722.80</td>\n",
       "      <td>2.042265e+07</td>\n",
       "    </tr>\n",
       "    <tr>\n",
       "      <th>1</th>\n",
       "      <td>5/25/2018</td>\n",
       "      <td>BTCUSD</td>\n",
       "      <td>7584.15</td>\n",
       "      <td>7661.85</td>\n",
       "      <td>7326.94</td>\n",
       "      <td>7459.11</td>\n",
       "      <td>8491.93</td>\n",
       "      <td>6.342069e+07</td>\n",
       "    </tr>\n",
       "    <tr>\n",
       "      <th>2</th>\n",
       "      <td>5/24/2018</td>\n",
       "      <td>BTCUSD</td>\n",
       "      <td>7505.00</td>\n",
       "      <td>7734.99</td>\n",
       "      <td>7269.00</td>\n",
       "      <td>7584.15</td>\n",
       "      <td>11033.72</td>\n",
       "      <td>8.293137e+07</td>\n",
       "    </tr>\n",
       "    <tr>\n",
       "      <th>3</th>\n",
       "      <td>5/23/2018</td>\n",
       "      <td>BTCUSD</td>\n",
       "      <td>7987.70</td>\n",
       "      <td>8030.00</td>\n",
       "      <td>7433.19</td>\n",
       "      <td>7505.00</td>\n",
       "      <td>14905.99</td>\n",
       "      <td>1.148104e+08</td>\n",
       "    </tr>\n",
       "    <tr>\n",
       "      <th>4</th>\n",
       "      <td>5/22/2018</td>\n",
       "      <td>BTCUSD</td>\n",
       "      <td>8393.44</td>\n",
       "      <td>8400.00</td>\n",
       "      <td>7950.00</td>\n",
       "      <td>7987.70</td>\n",
       "      <td>6589.43</td>\n",
       "      <td>5.389753e+07</td>\n",
       "    </tr>\n",
       "  </tbody>\n",
       "</table>\n",
       "</div>"
      ],
      "text/plain": [
       "        Date  Symbol     Open     High      Low    Close  Volume From  \\\n",
       "0  5/26/2018  BTCUSD  7459.11  7640.46  7380.00  7520.00      2722.80   \n",
       "1  5/25/2018  BTCUSD  7584.15  7661.85  7326.94  7459.11      8491.93   \n",
       "2  5/24/2018  BTCUSD  7505.00  7734.99  7269.00  7584.15     11033.72   \n",
       "3  5/23/2018  BTCUSD  7987.70  8030.00  7433.19  7505.00     14905.99   \n",
       "4  5/22/2018  BTCUSD  8393.44  8400.00  7950.00  7987.70      6589.43   \n",
       "\n",
       "      Volume To  \n",
       "0  2.042265e+07  \n",
       "1  6.342069e+07  \n",
       "2  8.293137e+07  \n",
       "3  1.148104e+08  \n",
       "4  5.389753e+07  "
      ]
     },
     "execution_count": 2,
     "metadata": {},
     "output_type": "execute_result"
    }
   ],
   "source": [
    "# roead data\n",
    "df = pd.read_csv(\"data/btc.csv\")\n",
    "df.head(5)"
   ]
  },
  {
   "cell_type": "code",
   "execution_count": 3,
   "id": "568cdf90",
   "metadata": {},
   "outputs": [
    {
     "data": {
      "text/plain": [
       "array([7520.  , 7459.11, 7584.15, ...,  378.  ,  378.  ,  370.  ])"
      ]
     },
     "execution_count": 3,
     "metadata": {},
     "output_type": "execute_result"
    }
   ],
   "source": [
    "# Get closing price of BTC\n",
    "data = df[\"Close\"].values\n",
    "\n",
    "data"
   ]
  },
  {
   "cell_type": "code",
   "execution_count": 4,
   "id": "28c684c9",
   "metadata": {},
   "outputs": [],
   "source": [
    "# Standardize the data\n",
    "scaler = StandardScaler()\n",
    "data = scaler.fit_transform(data.reshape(-1, 1))"
   ]
  },
  {
   "cell_type": "code",
   "execution_count": 5,
   "id": "eb42ad46",
   "metadata": {},
   "outputs": [
    {
     "data": {
      "text/plain": [
       "Text(0, 0.5, 'Price')"
      ]
     },
     "execution_count": 5,
     "metadata": {},
     "output_type": "execute_result"
    },
    {
     "data": {
      "image/png": "[encoded data removed]",
      "text/plain": [
       "<Figure size 640x480 with 1 Axes>"
      ]
     },
     "metadata": {},
     "output_type": "display_data"
    }
   ],
   "source": [
    "# plot to view the price of BTC over time\n",
    "\n",
    "plt.title('BTC Price over time')\n",
    "plt.plot(data, c=\"r\")\n",
    "plt.xlabel('Days')\n",
    "plt.ylabel('Price')"
   ]
  },
  {
   "cell_type": "code",
   "execution_count": 6,
   "id": "e65e137f",
   "metadata": {},
   "outputs": [],
   "source": [
    "# function to get data according to window size\n",
    "def get_data(data, window_size):\n",
    "    X = []\n",
    "    y = []\n",
    "    i = 0\n",
    "    while (i + window_size) <= len(data) - 1:\n",
    "        X.append(data[i:i+window_size])\n",
    "        y.append(data[i+window_size])\n",
    "        i += 1\n",
    "    assert len(X) == len(y)\n",
    "    return X, y\n",
    "\n",
    "# consider window size 7 and get data\n",
    "X, y = get_data(data, window_size = 7)"
   ]
  },
  {
   "cell_type": "code",
   "execution_count": 7,
   "id": "dcc0e6fb",
   "metadata": {},
   "outputs": [
    {
     "data": {
      "text/plain": [
       "(1000, 7, 1)"
      ]
     },
     "execution_count": 7,
     "metadata": {},
     "output_type": "execute_result"
    }
   ],
   "source": [
    "# train (first 1000 points) test split\n",
    "\n",
    "X_train, y_train = np.array(X[:1000]), np.array(y[:1000])\n",
    "\n",
    "X_test, y_test = np.array(X[1000:]), np.array(y[1000:])\n",
    "\n",
    "X_train.shape"
   ]
  },
  {
   "cell_type": "code",
   "execution_count": 8,
   "id": "7415072d",
   "metadata": {},
   "outputs": [],
   "source": [
    "# hyperparameters\n",
    "batch_size = 7\n",
    "window_size = 7\n",
    "hidden_layer = 256\n",
    "learning_rate = 0.001"
   ]
  },
  {
   "cell_type": "code",
   "execution_count": 9,
   "id": "fff16b9e",
   "metadata": {},
   "outputs": [],
   "source": [
    "# placeholders for input and output\n",
    "input = tf.placeholder(tf.float32, [batch_size, window_size, 1])\n",
    "target = tf.placeholder(tf.float32, [batch_size, 1])"
   ]
  },
  {
   "cell_type": "code",
   "execution_count": 10,
   "id": "e071d2e3",
   "metadata": {},
   "outputs": [],
   "source": [
    "# define weights to use in LSTM cell\n",
    "\n",
    "# weights for input gate\n",
    "U_i = tf.Variable(tf.truncated_normal([1, hidden_layer], stddev=0.05))\n",
    "W_i = tf.Variable(tf.truncated_normal([hidden_layer, hidden_layer], stddev=0.05))\n",
    "b_i = tf.Variable(tf.zeros([hidden_layer]))\n",
    "\n",
    "# weights for forget gate\n",
    "U_f = tf.Variable(tf.truncated_normal([1, hidden_layer], stddev=0.05))\n",
    "W_f = tf.Variable(tf.truncated_normal([hidden_layer, hidden_layer], stddev=0.05))\n",
    "b_f = tf.Variable(tf.zeros([hidden_layer]))\n",
    "\n",
    "# weights for output gate\n",
    "U_o = tf.Variable(tf.truncated_normal([1, hidden_layer], stddev=0.05))\n",
    "W_o = tf.Variable(tf.truncated_normal([hidden_layer, hidden_layer], stddev=0.05))\n",
    "b_o = tf.Variable(tf.zeros([hidden_layer]))\n",
    "\n",
    "# weights for candidate state\n",
    "U_g = tf.Variable(tf.truncated_normal([1, hidden_layer], stddev=0.05))\n",
    "W_g = tf.Variable(tf.truncated_normal([hidden_layer, hidden_layer], stddev=0.05))\n",
    "b_g = tf.Variable(tf.zeros([hidden_layer]))\n",
    "\n",
    "# weights for output layer\n",
    "V = tf.Variable(tf.truncated_normal([hidden_layer, 1], stddev=0.05))\n",
    "b_v = tf.Variable(tf.zeros([1]))"
   ]
  },
  {
   "cell_type": "code",
   "execution_count": 11,
   "id": "8b6c0afd",
   "metadata": {},
   "outputs": [],
   "source": [
    "# define the LSTM Cell\n",
    "\n",
    "def LSTM_cell(input, prev_hidden_state, prev_cell_state):\n",
    "    it = tf.sigmoid(tf.matmul(input, U_i) + tf.matmul(prev_hidden_state, W_i) + b_i)\n",
    "    ft = tf.sigmoid(tf.matmul(input, U_f) + tf.matmul(prev_hidden_state, W_f) + b_f)\n",
    "    ot = tf.sigmoid(tf.matmul(input, U_o) + tf.matmul(prev_hidden_state, W_o) + b_o)\n",
    "    gt = tf.tanh(tf.matmul(input, U_g) + tf.matmul(prev_hidden_state, W_g) + b_g)\n",
    "    ct = (prev_cell_state * ft) + (it * gt)\n",
    "    ht = ot * tf.tanh(ct)\n",
    "    return ct, ht"
   ]
  },
  {
   "cell_type": "code",
   "execution_count": 12,
   "id": "99ff0259",
   "metadata": {},
   "outputs": [],
   "source": [
    "# define forward prop\n",
    "\n",
    "y_hat = []\n",
    "for i in range(batch_size):\n",
    "    hidden_state = np.zeros([1, hidden_layer], dtype=np.float32)\n",
    "    cell_state = np.zeros([1, hidden_layer], dtype=np.float32)\n",
    "    for t in range(window_size):\n",
    "        cell_state, hidden_state = LSTM_cell(tf.reshape(input[i][t], (-1, 1)), hidden_state, cell_state)\n",
    "    y_hat.append(tf.matmul(hidden_state, V) + b_v)"
   ]
  },
  {
   "cell_type": "code",
   "execution_count": 13,
   "id": "8a921c40",
   "metadata": {},
   "outputs": [],
   "source": [
    "# define back prop\n",
    "losses = []\n",
    "\n",
    "for i in range(len(y_hat)):\n",
    "    losses.append(tf.losses.mean_squared_error(tf.reshape(target[i], (-1, 1)), y_hat[i]))\n",
    "loss = tf.reduce_mean(losses)\n",
    "\n",
    "# gradient clipping to avoid exploding gradient problem\n",
    "gradients = tf.gradients(loss, tf.trainable_variables())\n",
    "clipped, _ = tf.clip_by_global_norm(gradients, 4.0)\n",
    "\n",
    "# use adam optimizer\n",
    "optimizer = tf.train.AdamOptimizer(learning_rate).apply_gradients(zip(gradients, tf.trainable_variables()))"
   ]
  },
  {
   "cell_type": "code",
   "execution_count": 14,
   "id": "aa5e1126",
   "metadata": {},
   "outputs": [
    {
     "name": "stderr",
     "output_type": "stream",
     "text": [
      "2025-04-28 18:32:10.624367: E external/local_xla/xla/stream_executor/cuda/cuda_platform.cc:51] failed call to cuInit: INTERNAL: CUDA error: Failed call to cuInit: UNKNOWN ERROR (303)\n",
      "WARNING: All log messages before absl::InitializeLog() is called are written to STDERR\n",
      "I0000 00:00:1745844430.660443   18323 mlir_graph_optimization_pass.cc:425] MLIR V1 optimization pass is not enabled\n"
     ]
    },
    {
     "name": "stdout",
     "output_type": "stream",
     "text": [
      "Epoch 0, Loss: 0.1993260234594345\n",
      "Epoch 10, Loss: 0.04843957722187042\n",
      "Epoch 20, Loss: 0.03012985922396183\n",
      "Epoch 30, Loss: 0.017626019194722176\n",
      "Epoch 40, Loss: 0.0186790619045496\n",
      "Epoch 50, Loss: 0.009517835453152657\n",
      "Epoch 60, Loss: 0.01027981098741293\n",
      "Epoch 70, Loss: 0.010378513485193253\n",
      "Epoch 80, Loss: 0.008158589713275433\n",
      "Epoch 90, Loss: 0.007359115872532129\n"
     ]
    }
   ],
   "source": [
    "# train LSTM\n",
    "\n",
    "session = tf.Session()\n",
    "session.run(tf.global_variables_initializer())\n",
    "\n",
    "epochs = 100\n",
    "\n",
    "for i in range(epochs):\n",
    "    train_predictions = []\n",
    "    index = 0\n",
    "    epoch_loss = []\n",
    "    while(index + batch_size) <= len(X_train):\n",
    "        X_batch = X_train[index:index+batch_size]\n",
    "        y_batch = y_train[index:index+batch_size]\n",
    "        predicted, loss_val, _ = session.run([y_hat, loss, optimizer], feed_dict={input:X_batch, target:y_batch})\n",
    "        epoch_loss.append(loss_val)\n",
    "        train_predictions.append(predicted)\n",
    "        index += batch_size\n",
    "    if (i % 10)== 0:\n",
    "        print(f\"Epoch {i}, Loss: {np.mean(epoch_loss)}\")"
   ]
  },
  {
   "cell_type": "code",
   "execution_count": 15,
   "id": "541a0599",
   "metadata": {},
   "outputs": [
    {
     "data": {
      "text/plain": [
       "[[array([[-0.60264766]], dtype=float32),\n",
       "  array([[-0.59974945]], dtype=float32),\n",
       "  array([[-0.5992061]], dtype=float32),\n",
       "  array([[-0.5978694]], dtype=float32),\n",
       "  array([[-0.5977099]], dtype=float32),\n",
       "  array([[-0.5993786]], dtype=float32),\n",
       "  array([[-0.5953332]], dtype=float32)]]"
      ]
     },
     "execution_count": 15,
     "metadata": {},
     "output_type": "execute_result"
    }
   ],
   "source": [
    "# make predictions using LSTM\n",
    "predicted_output = []\n",
    "i = 0\n",
    "\n",
    "while i+batch_size <= len(X_test):\n",
    "    output = session.run([y_hat],feed_dict={input:X_test[i:i+batch_size]})\n",
    "    i += batch_size\n",
    "    predicted_output.append(output)\n",
    "    \n",
    "predicted_output[0]"
   ]
  },
  {
   "cell_type": "code",
   "execution_count": 33,
   "id": "b218c6ac",
   "metadata": {},
   "outputs": [
    {
     "data": {
      "text/plain": [
       "array([[-0.60264766]], dtype=float32)"
      ]
     },
     "execution_count": 33,
     "metadata": {},
     "output_type": "execute_result"
    }
   ],
   "source": [
    "# flatten test predictions\n",
    "predicted_values_test = []\n",
    "for i in range(len(predicted_output)):\n",
    "    for j in range(len(predicted_output[i][0])):\n",
    "        predicted_values_test.append(predicted_output[i][0][j])\n",
    "\n",
    "predicted_values_test[0]"
   ]
  },
  {
   "cell_type": "code",
   "execution_count": 54,
   "id": "44e4611a",
   "metadata": {},
   "outputs": [],
   "source": [
    "predicted_values_test = [x for x in predicted_values_test]"
   ]
  },
  {
   "cell_type": "code",
   "execution_count": 55,
   "id": "363e274b",
   "metadata": {},
   "outputs": [
    {
     "data": {
      "image/png": "[encoded data removed]",
      "text/plain": [
       "<Figure size 1600x700 with 1 Axes>"
      ]
     },
     "metadata": {},
     "output_type": "display_data"
    }
   ],
   "source": [
    "# visualize predicted value and true value\n",
    "\n",
    "plt.figure(figsize=(16, 7))\n",
    "plt.plot(data, label='Actual')\n",
    "plt.plot(predicted_values_test, label='Predicted')\n",
    "plt.legend()\n",
    "plt.xlabel('Days')\n",
    "plt.ylabel('Price')\n",
    "plt.grid()\n",
    "plt.show()"
   ]
  }
 ],
 "metadata": {
  "kernelspec": {
   "display_name": ".venv",
   "language": "python",
   "name": "python3"
  },
  "language_info": {
   "codemirror_mode": {
    "name": "ipython",
    "version": 3
   },
   "file_extension": ".py",
   "mimetype": "text/x-python",
   "name": "python",
   "nbconvert_exporter": "python",
   "pygments_lexer": "ipython3",
   "version": "3.10.10"
  }
 },
 "nbformat": 4,
 "nbformat_minor": 5
}
